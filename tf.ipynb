{
 "cells": [
  {
   "cell_type": "code",
   "execution_count": 23,
   "metadata": {},
   "outputs": [],
   "source": [
    "import json\n",
    "import numpy as np\n",
    "\n",
    "# Load the JSON data\n",
    "with open(\"data.json\", \"r\") as file:\n",
    "    data = json.load(file)\n",
    "\n",
    "# Extracting data from the JSON structure\n",
    "t = np.array(\n",
    "    data[\"t\"]\n",
    ")  # Time steps, might not be used directly in LSTM but useful for splitting data\n",
    "o = np.array(data[\"o\"])  # Open prices\n",
    "h = np.array(data[\"h\"])  # High prices\n",
    "l = np.array(data[\"l\"])  # Low prices\n",
    "c = np.array(data[\"c\"])  # Close prices\n",
    "v = np.array(data[\"v\"])  # Volumes"
   ]
  },
  {
   "cell_type": "code",
   "execution_count": 24,
   "metadata": {},
   "outputs": [],
   "source": [
    "# Assuming you want to use 'o', 'h', 'l', 'c', 'v' from day 't-1' to predict 'o', 'h', 'l', 'c', 'v' for day 't'\n",
    "# Here's how you can prepare your data:\n",
    "\n",
    "# Features for model input\n",
    "features = np.column_stack((o[:-1], h[:-1], l[:-1], c[:-1], v[:-1]))\n",
    "\n",
    "# Targets for model output\n",
    "targets = np.column_stack((o[1:], h[1:], l[1:], c[1:], v[1:]))\n",
    "\n",
    "# Reshape for LSTM [samples, time steps, features]\n",
    "# In this case, each day is one time step with 5 features\n",
    "features = features.reshape((features.shape[0], 1, features.shape[1]))"
   ]
  },
  {
   "cell_type": "code",
   "execution_count": 25,
   "metadata": {},
   "outputs": [],
   "source": [
    "from sklearn.model_selection import train_test_split\n",
    "\n",
    "# Splitting data into training and testing (assuming you're using 80-20 split)\n",
    "train_features, test_features, train_targets, test_targets = train_test_split(\n",
    "    features, targets, test_size=0.2, random_state=42\n",
    ")"
   ]
  },
  {
   "cell_type": "code",
   "execution_count": 35,
   "metadata": {},
   "outputs": [
    {
     "name": "stdout",
     "output_type": "stream",
     "text": [
      "WARNING:tensorflow:Layer lstm_16 will not use cuDNN kernels since it doesn't meet the criteria. It will use a generic GPU kernel as fallback when running on GPU.\n",
      "WARNING:tensorflow:Layer lstm_17 will not use cuDNN kernels since it doesn't meet the criteria. It will use a generic GPU kernel as fallback when running on GPU.\n",
      "WARNING:tensorflow:Layer lstm_18 will not use cuDNN kernels since it doesn't meet the criteria. It will use a generic GPU kernel as fallback when running on GPU.\n",
      "WARNING:tensorflow:Layer lstm_19 will not use cuDNN kernels since it doesn't meet the criteria. It will use a generic GPU kernel as fallback when running on GPU.\n"
     ]
    }
   ],
   "source": [
    "from tensorflow.keras.layers import Dense, Dropout, LSTM\n",
    "from tensorflow.keras.models import Sequential\n",
    "\n",
    "model = Sequential()\n",
    "model.add(\n",
    "    LSTM(\n",
    "        units=50,\n",
    "        activation=\"relu\",\n",
    "        return_sequences=True,\n",
    "    )\n",
    ")\n",
    "model.add(Dropout(0.2))\n",
    "\n",
    "\n",
    "model.add(LSTM(units=60, activation=\"relu\", return_sequences=True))\n",
    "model.add(Dropout(0.3))\n",
    "\n",
    "\n",
    "model.add(LSTM(units=80, activation=\"relu\", return_sequences=True))\n",
    "model.add(Dropout(0.4))\n",
    "\n",
    "\n",
    "model.add(LSTM(units=120, activation=\"relu\"))\n",
    "model.add(Dropout(0.5))\n",
    "\n",
    "model.add(Dense(units=1))\n",
    "\n",
    "model.compile(optimizer=\"adam\", loss=\"mean_squared_error\", metrics=[\"MAE\"])"
   ]
  },
  {
   "cell_type": "code",
   "execution_count": 36,
   "metadata": {},
   "outputs": [
    {
     "name": "stdout",
     "output_type": "stream",
     "text": [
      "Epoch 1/10\n",
      "17/17 [==============================] - 13s 412ms/step - loss: 860742221824.0000 - MAE: 289628.3750 - val_loss: 791147053056.0000 - val_MAE: 263958.8438\n",
      "Epoch 2/10\n",
      "17/17 [==============================] - 1s 79ms/step - loss: 858914881536.0000 - MAE: 288688.0000 - val_loss: 788758462464.0000 - val_MAE: 262130.5312\n",
      "Epoch 3/10\n",
      "17/17 [==============================] - 2s 91ms/step - loss: 855793467392.0000 - MAE: 288061.6562 - val_loss: 784660561920.0000 - val_MAE: 261933.6875\n",
      "Epoch 4/10\n",
      "17/17 [==============================] - 1s 81ms/step - loss: 844082839552.0000 - MAE: 292055.6875 - val_loss: 770420965376.0000 - val_MAE: 267152.7188\n",
      "Epoch 5/10\n",
      "17/17 [==============================] - 3s 150ms/step - loss: 814116569088.0000 - MAE: 310846.2188 - val_loss: 740110630912.0000 - val_MAE: 286755.8438\n",
      "Epoch 6/10\n",
      "17/17 [==============================] - 1s 79ms/step - loss: 776692498432.0000 - MAE: 350816.1562 - val_loss: 702974525440.0000 - val_MAE: 320546.7812\n",
      "Epoch 7/10\n",
      "17/17 [==============================] - 1s 63ms/step - loss: 745121972224.0000 - MAE: 402549.2500 - val_loss: 672945078272.0000 - val_MAE: 375548.2500\n",
      "Epoch 8/10\n",
      "17/17 [==============================] - 1s 70ms/step - loss: 749172097024.0000 - MAE: 410895.5938 - val_loss: 674249113600.0000 - val_MAE: 370264.4062\n",
      "Epoch 9/10\n",
      "17/17 [==============================] - 1s 63ms/step - loss: 743516733440.0000 - MAE: 415762.2500 - val_loss: 674728443904.0000 - val_MAE: 368332.0938\n",
      "Epoch 10/10\n",
      "17/17 [==============================] - 1s 72ms/step - loss: 735256379392.0000 - MAE: 415832.6250 - val_loss: 676986224640.0000 - val_MAE: 361670.5938\n"
     ]
    },
    {
     "data": {
      "text/plain": [
       "<keras.src.callbacks.History at 0x373bc01f0>"
      ]
     },
     "execution_count": 36,
     "metadata": {},
     "output_type": "execute_result"
    }
   ],
   "source": [
    "model.fit(train_features, train_targets, epochs=10, batch_size=32, validation_split=0.2)\n"
   ]
  },
  {
   "cell_type": "code",
   "execution_count": 37,
   "metadata": {},
   "outputs": [
    {
     "name": "stdout",
     "output_type": "stream",
     "text": [
      "WARNING:tensorflow:5 out of the last 16 calls to <function Model.make_predict_function.<locals>.predict_function at 0x373badcf0> triggered tf.function retracing. Tracing is expensive and the excessive number of tracings could be due to (1) creating @tf.function repeatedly in a loop, (2) passing tensors with different shapes, (3) passing Python objects instead of tensors. For (1), please define your @tf.function outside of the loop. For (2), @tf.function has reduce_retracing=True option that can avoid unnecessary retracing. For (3), please refer to https://www.tensorflow.org/guide/function#controlling_retracing and https://www.tensorflow.org/api_docs/python/tf/function for  more details.\n",
      "1/1 [==============================] - 2s 2s/step\n",
      "[[177176.34]]\n"
     ]
    }
   ],
   "source": [
    "last_day_data = np.array([[o[-1], h[-1], l[-1], c[-1], v[-1]]])\n",
    "last_day_features = last_day_data.reshape((1, 1, 5))\n",
    "\n",
    "# Assuming 'last_day_features' is your input data for the last available day shaped correctly\n",
    "# For example: last_day_features = np.array([[[o, h, l, c, v]]])\n",
    "\n",
    "predictions = model.predict(last_day_features)\n",
    "\n",
    "# 'predictions' will contain the predicted 'o', 'h', 'l', 'c', 'v' values for the next day\n",
    "print(predictions)"
   ]
  }
 ],
 "metadata": {
  "kernelspec": {
   "display_name": "base",
   "language": "python",
   "name": "python3"
  },
  "language_info": {
   "codemirror_mode": {
    "name": "ipython",
    "version": 3
   },
   "file_extension": ".py",
   "mimetype": "text/x-python",
   "name": "python",
   "nbconvert_exporter": "python",
   "pygments_lexer": "ipython3",
   "version": "3.10.12"
  }
 },
 "nbformat": 4,
 "nbformat_minor": 2
}
