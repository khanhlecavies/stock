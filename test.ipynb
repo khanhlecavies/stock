{
 "cells": [
  {
   "cell_type": "code",
   "execution_count": 21,
   "metadata": {},
   "outputs": [],
   "source": [
    "import json\n",
    "import numpy as np\n",
    "import tensorflow as tf\n",
    "from tensorflow.keras.models import Sequential\n",
    "from tensorflow.keras.layers import LSTM, Dense\n",
    "from sklearn.model_selection import train_test_split\n",
    "\n",
    "\n",
    "# Đọc dữ liệu từ tệp JSON\n",
    "def load_json_data(file_path):\n",
    "    with open(file_path, \"r\") as file:\n",
    "        data = json.load(file)\n",
    "    return data\n",
    "\n",
    "\n",
    "# Chuẩn bị dữ liệu\n",
    "def prepare_data(data):\n",
    "    t = np.array(data[\"t\"])\n",
    "    o = np.array(data[\"o\"])\n",
    "    h = np.array(data[\"h\"])\n",
    "    l = np.array(data[\"l\"])\n",
    "    c = np.array(data[\"c\"])\n",
    "    v = np.array(data[\"v\"])\n",
    "\n",
    "    features = np.column_stack((o, h, l, c, v))\n",
    "    labels = features.copy()  # Đầu ra là các giá trị o, h, l, c, v\n",
    "    return features, labels\n",
    "\n",
    "\n",
    "# Xây dựng mô hình LSTM\n",
    "def build_lstm_model(input_shape):\n",
    "    model = Sequential()\n",
    "    model.add(LSTM(units=5, return_sequences=True, input_shape=input_shape))\n",
    "    model.add(LSTM(units=5))\n",
    "    model.add(\n",
    "        Dense(units=5)\n",
    "    )  # Số lượng units là 5 vì chúng ta có 5 đầu ra: o, h, l, c, v\n",
    "    model.compile(optimizer=\"adam\", loss=\"mean_squared_error\")\n",
    "    return model\n",
    "\n",
    "\n",
    "# Đào tạo mô hình\n",
    "def train_model(model, X_train, y_train, epochs=1, batch_size=32):\n",
    "    model.fit(X_train, y_train, epochs=epochs, batch_size=batch_size)\n",
    "\n",
    "\n",
    "# Dự đoán với mô hình\n",
    "def predict(model, X_test):\n",
    "    predictions = model.predict(X_test)\n",
    "    return predictions"
   ]
  },
  {
   "cell_type": "code",
   "execution_count": 22,
   "metadata": {},
   "outputs": [
    {
     "name": "stdout",
     "output_type": "stream",
     "text": [
      "16/16 [==============================] - 11s 211ms/step - loss: 977396760576.0000\n",
      "1/1 [==============================] - 2s 2s/step\n",
      "Predicted values for tomorrow:\n",
      "Open: 0.02111103\n"
     ]
    },
    {
     "ename": "IndexError",
     "evalue": "index 1 is out of bounds for axis 0 with size 1",
     "output_type": "error",
     "traceback": [
      "\u001b[0;31m---------------------------------------------------------------------------\u001b[0m",
      "\u001b[0;31mIndexError\u001b[0m                                Traceback (most recent call last)",
      "Cell \u001b[0;32mIn[22], line 23\u001b[0m\n\u001b[1;32m     21\u001b[0m \u001b[38;5;28mprint\u001b[39m(\u001b[38;5;124m\"\u001b[39m\u001b[38;5;124mPredicted values for tomorrow:\u001b[39m\u001b[38;5;124m\"\u001b[39m)\n\u001b[1;32m     22\u001b[0m \u001b[38;5;28mprint\u001b[39m(\u001b[38;5;124m\"\u001b[39m\u001b[38;5;124mOpen:\u001b[39m\u001b[38;5;124m\"\u001b[39m, tomorrow_prediction[\u001b[38;5;241m0\u001b[39m][\u001b[38;5;241m0\u001b[39m])\n\u001b[0;32m---> 23\u001b[0m \u001b[38;5;28mprint\u001b[39m(\u001b[38;5;124m\"\u001b[39m\u001b[38;5;124mHigh:\u001b[39m\u001b[38;5;124m\"\u001b[39m, \u001b[43mtomorrow_prediction\u001b[49m\u001b[43m[\u001b[49m\u001b[38;5;241;43m0\u001b[39;49m\u001b[43m]\u001b[49m\u001b[43m[\u001b[49m\u001b[38;5;241;43m1\u001b[39;49m\u001b[43m]\u001b[49m)\n\u001b[1;32m     24\u001b[0m \u001b[38;5;28mprint\u001b[39m(\u001b[38;5;124m\"\u001b[39m\u001b[38;5;124mLow:\u001b[39m\u001b[38;5;124m\"\u001b[39m, tomorrow_prediction[\u001b[38;5;241m0\u001b[39m][\u001b[38;5;241m2\u001b[39m])\n\u001b[1;32m     25\u001b[0m \u001b[38;5;28mprint\u001b[39m(\u001b[38;5;124m\"\u001b[39m\u001b[38;5;124mClose:\u001b[39m\u001b[38;5;124m\"\u001b[39m, tomorrow_prediction[\u001b[38;5;241m0\u001b[39m][\u001b[38;5;241m3\u001b[39m])\n",
      "\u001b[0;31mIndexError\u001b[0m: index 1 is out of bounds for axis 0 with size 1"
     ]
    }
   ],
   "source": [
    "# Đọc dữ liệu từ tệp JSON và chuẩn bị dữ liệu\n",
    "data = load_json_data('data.json')\n",
    "X, y = prepare_data(data)\n",
    "n_features = X.shape[1]\n",
    "X = X.reshape((X.shape[0], 1, X.shape[1]))\n",
    "\n",
    "# Chia dữ liệu thành tập huấn luyện và tập kiểm tra (70/30)\n",
    "X_train, X_test, y_train, y_test = train_test_split(X, y, test_size=0.3, random_state=42)\n",
    "\n",
    "# Xây dựng và đào tạo mô hình\n",
    "model = build_lstm_model((1, n_features))\n",
    "train_model(model, X_train, y_train)\n",
    "\n",
    "# Lấy dữ liệu cuối cùng từ data.json\n",
    "last_data = X[-1].reshape((1, 1, n_features))\n",
    "\n",
    "# Dự đoán ngày mai\n",
    "tomorrow_prediction = predict(model, last_data)\n",
    "\n",
    "# In dự đoán cho ngày mai\n",
    "print(\"Predicted values for tomorrow:\")\n",
    "print(\"Open:\", tomorrow_prediction[0][0])\n",
    "print(\"High:\", tomorrow_prediction[0][1])\n",
    "print(\"Low:\", tomorrow_prediction[0][2])\n",
    "print(\"Close:\", tomorrow_prediction[0][3])\n",
    "print(\"Volume:\", tomorrow_prediction[0][4])\n"
   ]
  }
 ],
 "metadata": {
  "kernelspec": {
   "display_name": "base",
   "language": "python",
   "name": "python3"
  },
  "language_info": {
   "codemirror_mode": {
    "name": "ipython",
    "version": 3
   },
   "file_extension": ".py",
   "mimetype": "text/x-python",
   "name": "python",
   "nbconvert_exporter": "python",
   "pygments_lexer": "ipython3",
   "version": "3.10.12"
  }
 },
 "nbformat": 4,
 "nbformat_minor": 2
}
