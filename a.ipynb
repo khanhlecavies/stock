{
 "cells": [
  {
   "cell_type": "code",
   "execution_count": 30,
   "metadata": {},
   "outputs": [
    {
     "name": "stdout",
     "output_type": "stream",
     "text": [
      "Epoch 1/10\n",
      "126/126 [==============================] - 10s 35ms/step - loss: 0.0251\n",
      "Epoch 2/10\n",
      "126/126 [==============================] - 3s 23ms/step - loss: 3.3088e-04\n",
      "Epoch 3/10\n",
      "126/126 [==============================] - 3s 25ms/step - loss: 1.7352e-04\n",
      "Epoch 4/10\n",
      "126/126 [==============================] - 3s 24ms/step - loss: 1.1083e-04\n",
      "Epoch 5/10\n",
      "126/126 [==============================] - 3s 23ms/step - loss: 8.3246e-05\n",
      "Epoch 6/10\n",
      "126/126 [==============================] - 4s 28ms/step - loss: 6.4428e-05\n",
      "Epoch 7/10\n",
      "126/126 [==============================] - 4s 30ms/step - loss: 4.9193e-05\n",
      "Epoch 8/10\n",
      "126/126 [==============================] - 3s 24ms/step - loss: 3.9890e-05\n",
      "Epoch 9/10\n",
      "126/126 [==============================] - 3s 25ms/step - loss: 3.7736e-05\n",
      "Epoch 10/10\n",
      "126/126 [==============================] - 3s 26ms/step - loss: 3.8713e-05\n",
      "1/1 [==============================] - 1s 1s/step\n",
      "Predicted closing price for tomorrow: [[407021.03]]\n"
     ]
    }
   ],
   "source": [
    "import numpy as np\n",
    "import json\n",
    "from sklearn.model_selection import train_test_split\n",
    "from sklearn.preprocessing import MinMaxScaler\n",
    "from tensorflow.keras.models import Sequential\n",
    "from tensorflow.keras.layers import Bidirectional, GRU, Dropout, Dense\n",
    "\n",
    "\n",
    "def predict_next_day_values(data_path, get_value: str):\n",
    "    # Load data from JSON file\n",
    "    with open(data_path) as f:\n",
    "        data = json.load(f)\n",
    "\n",
    "    # Extract features and target\n",
    "    X = np.column_stack((data[\"o\"], data[\"h\"], data[\"l\"], data[\"c\"], data[\"v\"]))\n",
    "    y = np.array(data[get_value])  # Close price\n",
    "\n",
    "    # Normalize data\n",
    "    scaler_X = MinMaxScaler()\n",
    "    scaler_y = MinMaxScaler()\n",
    "    X_scaled = scaler_X.fit_transform(X)\n",
    "    y_scaled = scaler_y.fit_transform(y.reshape(-1, 1))\n",
    "\n",
    "    # Reshape data for LSTM input (samples, timesteps, features)\n",
    "    X_scaled = X_scaled.reshape(X_scaled.shape[0], X_scaled.shape[1], 1)\n",
    "\n",
    "    # Split data into train and test sets\n",
    "    X_train, X_test, y_train, y_test = train_test_split(\n",
    "        X_scaled, y_scaled, test_size=0.3, random_state=42\n",
    "    )\n",
    "\n",
    "    # Build the model\n",
    "    model = Sequential()\n",
    "    model.add(\n",
    "        Bidirectional(\n",
    "            GRU(units=50, return_sequences=True, input_shape=(X_train.shape[1], 1))\n",
    "        )\n",
    "    )\n",
    "    model.add(Dropout(0.2))\n",
    "    model.add(Bidirectional(GRU(units=50)))\n",
    "    model.add(Dropout(0.2))\n",
    "    model.add(Dense(32, kernel_initializer=\"uniform\", activation=\"relu\"))\n",
    "    model.add(Dense(1, kernel_initializer=\"uniform\", activation=\"linear\"))\n",
    "    model.compile(optimizer=\"adam\", loss=\"mean_squared_error\")\n",
    "\n",
    "    # Train the model\n",
    "    model.fit(X_train, y_train, epochs=3, batch_size=32, verbose=0)\n",
    "\n",
    "    # Predict tomorrow's closing price\n",
    "    last_data_point = X_scaled[-1].reshape(1, X_scaled.shape[1], 1)\n",
    "    predicted_price_scaled = model.predict(last_data_point)\n",
    "    predicted_price = scaler_y.inverse_transform(predicted_price_scaled)\n",
    "\n",
    "    return predicted_price\n",
    "\n",
    "\n",
    "# Example usage:\n",
    "predicted_price = predict_next_day_values(\"data.json\", \"c\")\n",
    "print(\"Predicted closing price for tomorrow:\", predicted_price)"
   ]
  },
  {
   "cell_type": "code",
   "execution_count": 20,
   "metadata": {},
   "outputs": [],
   "source": [
    "# Example usage:\n",
    "predictor = StockPredictor(\"data.json\")"
   ]
  },
  {
   "cell_type": "code",
   "execution_count": null,
   "metadata": {},
   "outputs": [],
   "source": [
    "X_train, X_test, y_train, y_test = predictor.preprocess_data(\"c\")\n",
    "predictor.build_model()\n",
    "predictor.train_model(X_train, y_train, epochs=100)\n",
    "predicted_price = predictor.predict_next_day_value(\n",
    "    X_test[-1].reshape(1, X_test.shape[1], 1)\n",
    ")\n",
    "print(\"Predicted closing price for tomorrow:\", predicted_price)"
   ]
  },
  {
   "cell_type": "code",
   "execution_count": 12,
   "metadata": {},
   "outputs": [
    {
     "name": "stderr",
     "output_type": "stream",
     "text": [
      "/Users/khanhle/miniforge3/lib/python3.10/site-packages/keras/src/engine/training.py:3079: UserWarning: You are saving your model as an HDF5 file via `model.save()`. This file format is considered legacy. We recommend using instead the native Keras format, e.g. `model.save('my_model.keras')`.\n",
      "  saving_api.save_model(\n"
     ]
    }
   ],
   "source": [
    "# Save model\n",
    "predictor.save_model(\"stock_model.h5\")"
   ]
  },
  {
   "cell_type": "code",
   "execution_count": 13,
   "metadata": {},
   "outputs": [],
   "source": [
    "# Load model\n",
    "predictor.load_model(\"stock_model.h5\")"
   ]
  },
  {
   "cell_type": "code",
   "execution_count": 15,
   "metadata": {},
   "outputs": [
    {
     "name": "stdout",
     "output_type": "stream",
     "text": [
      "1/1 [==============================] - 0s 74ms/step\n"
     ]
    }
   ],
   "source": [
    "predicted_price_loaded = predictor.predict_next_day_value(\n",
    "    X_test[-1].reshape(1, X_test.shape[1], 1)\n",
    ")"
   ]
  },
  {
   "cell_type": "code",
   "execution_count": 16,
   "metadata": {},
   "outputs": [
    {
     "name": "stdout",
     "output_type": "stream",
     "text": [
      "Predicted closing price for tomorrow (loaded model): [[928.90393]]\n"
     ]
    }
   ],
   "source": [
    "print(\"Predicted closing price for tomorrow (loaded model):\", predicted_price_loaded)"
   ]
  },
  {
   "cell_type": "markdown",
   "metadata": {},
   "source": []
  }
 ],
 "metadata": {
  "kernelspec": {
   "display_name": "base",
   "language": "python",
   "name": "python3"
  },
  "language_info": {
   "codemirror_mode": {
    "name": "ipython",
    "version": 3
   },
   "file_extension": ".py",
   "mimetype": "text/x-python",
   "name": "python",
   "nbconvert_exporter": "python",
   "pygments_lexer": "ipython3",
   "version": "3.10.12"
  }
 },
 "nbformat": 4,
 "nbformat_minor": 2
}
