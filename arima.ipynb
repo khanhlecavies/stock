{
 "cells": [
  {
   "cell_type": "code",
   "execution_count": 4,
   "metadata": {},
   "outputs": [
    {
     "name": "stdout",
     "output_type": "stream",
     "text": [
      "Test MSE: 180589.31870997223\n",
      "Predicted Close Prices for Next 7 Days: [[ 897.62502778]\n",
      " [ 984.15700959]\n",
      " [1003.18300581]\n",
      " [ 889.11231005]\n",
      " [ 817.39540762]\n",
      " [ 819.51960623]\n",
      " [ 909.74547833]]\n"
     ]
    }
   ],
   "source": [
    "import numpy as np\n",
    "import json\n",
    "from sklearn.preprocessing import MinMaxScaler\n",
    "from sklearn.model_selection import train_test_split\n",
    "from statsmodels.tsa.arima.model import ARIMA\n",
    "\n",
    "# Load data from JSON file\n",
    "with open(\"data.json\") as f:\n",
    "    data = json.load(f)\n",
    "\n",
    "# Extract features and target\n",
    "t = np.array(data[\"t\"])\n",
    "o = np.array(data[\"o\"])\n",
    "h = np.array(data[\"h\"])\n",
    "l = np.array(data[\"l\"])\n",
    "c = np.array(data[\"c\"])\n",
    "v = np.array(data[\"v\"])\n",
    "\n",
    "# Use only \"c\" as target\n",
    "y = c\n",
    "\n",
    "# Normalize data\n",
    "scaler_y = MinMaxScaler()\n",
    "y_scaled = scaler_y.fit_transform(y.reshape(-1, 1))\n",
    "\n",
    "# Split data into train and test sets\n",
    "y_train, y_test = train_test_split(y_scaled, test_size=0.5, random_state=42)\n",
    "\n",
    "# Convert to 1D array\n",
    "y_train = y_train.flatten()\n",
    "y_test = y_test.flatten()\n",
    "\n",
    "# Build and train the ARIMA model\n",
    "order = (5, 1, 0)  # Example order, you may need to tune this\n",
    "model = ARIMA(y_train, order=order)\n",
    "model_fit = model.fit()\n",
    "\n",
    "# Evaluate the model on test data\n",
    "predictions = model_fit.forecast(steps=len(y_test))\n",
    "predictions = predictions.reshape(-1, 1)\n",
    "predictions_inverse = scaler_y.inverse_transform(predictions)\n",
    "test_inverse = scaler_y.inverse_transform(y_test.reshape(-1, 1))\n",
    "\n",
    "# Calculate Mean Squared Error\n",
    "mse = np.mean((predictions_inverse - test_inverse) ** 2)\n",
    "print(\"Test MSE:\", mse)\n",
    "\n",
    "# Predict future values\n",
    "future_steps = 7\n",
    "future_forecast = model_fit.forecast(steps=future_steps)\n",
    "future_forecast = future_forecast.reshape(-1, 1)\n",
    "future_forecast_inverse = scaler_y.inverse_transform(future_forecast)\n",
    "print(\"Predicted Close Prices for Next 7 Days:\", future_forecast_inverse)"
   ]
  }
 ],
 "metadata": {
  "kernelspec": {
   "display_name": "base",
   "language": "python",
   "name": "python3"
  },
  "language_info": {
   "codemirror_mode": {
    "name": "ipython",
    "version": 3
   },
   "file_extension": ".py",
   "mimetype": "text/x-python",
   "name": "python",
   "nbconvert_exporter": "python",
   "pygments_lexer": "ipython3",
   "version": "3.10.12"
  }
 },
 "nbformat": 4,
 "nbformat_minor": 2
}
