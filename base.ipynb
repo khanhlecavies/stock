{
 "cells": [
  {
   "cell_type": "code",
   "execution_count": 1,
   "metadata": {},
   "outputs": [],
   "source": [
    "import json\n",
    "import numpy as np\n",
    "import tensorflow as tf\n",
    "from sklearn.model_selection import train_test_split\n",
    "\n",
    "# Read data from JSON file\n",
    "with open(\"data.json\", \"r\") as file:\n",
    "    data = json.load(file)\n",
    "\n",
    "# Prepare features and labels\n",
    "features = np.column_stack((data[\"o\"], data[\"h\"], data[\"l\"], data[\"c\"]))\n",
    "labels = features[1:]  # Labels are shifted by one day\n",
    "\n",
    "# Remove the last day from features to align with labels\n",
    "features = features[:-1]\n",
    "\n",
    "# Split the data into training and testing sets\n",
    "X_train, X_test, y_train, y_test = train_test_split(\n",
    "    features, labels, test_size=0.3, random_state=42\n",
    ")"
   ]
  },
  {
   "cell_type": "code",
   "execution_count": null,
   "metadata": {},
   "outputs": [],
   "source": [
    "# Define the model architecture\n",
    "model = tf.keras.models.Sequential(\n",
    "    [\n",
    "        tf.keras.layers.GRU(128, input_shape=(1, 4), return_sequences=True),\n",
    "        # tf.keras.layers.Dense(64, activation='relu', input_shape=(4,)),\n",
    "        tf.keras.layers.Dense(64, activation=\"relu\"),\n",
    "        tf.keras.layers.Dense(4),\n",
    "    ]\n",
    ")\n",
    "\n",
    "# Compile the model\n",
    "model.compile(optimizer=\"adam\", loss=\"mse\")\n",
    "\n",
    "# Train the model\n",
    "model.fit(X_train, y_train, epochs=100, batch_size=32, validation_split=0.3)\n",
    "\n",
    "# Evaluate the model\n",
    "loss = model.evaluate(X_test, y_test)\n",
    "print(\"Test Loss:\", loss)"
   ]
  },
  {
   "cell_type": "code",
   "execution_count": 21,
   "metadata": {},
   "outputs": [
    {
     "name": "stdout",
     "output_type": "stream",
     "text": [
      "1/1 [==============================] - 0s 15ms/step\n",
      "Predicted Prices for Tomorrow:\n",
      "Open: 5917.59\n",
      "High: 6140.481\n",
      "Low: 5800.8135\n",
      "Close: 6011.0786\n"
     ]
    }
   ],
   "source": [
    "# Make predictions for tomorrow\n",
    "last_data_point = np.array(\n",
    "    [data[\"o\"][-1], data[\"h\"][-1], data[\"l\"][-1], data[\"c\"][-1]]\n",
    ").reshape(1, -1)\n",
    "predicted_prices = model.predict(last_data_point)\n",
    "print(\"Predicted Prices for Tomorrow:\")\n",
    "print(\"Open:\", predicted_prices[0][0])\n",
    "print(\"High:\", predicted_prices[0][1])\n",
    "print(\"Low:\", predicted_prices[0][2])\n",
    "print(\"Close:\", predicted_prices[0][3])"
   ]
  }
 ],
 "metadata": {
  "kernelspec": {
   "display_name": "base",
   "language": "python",
   "name": "python3"
  },
  "language_info": {
   "codemirror_mode": {
    "name": "ipython",
    "version": 3
   },
   "file_extension": ".py",
   "mimetype": "text/x-python",
   "name": "python",
   "nbconvert_exporter": "python",
   "pygments_lexer": "ipython3",
   "version": "3.10.12"
  }
 },
 "nbformat": 4,
 "nbformat_minor": 2
}
