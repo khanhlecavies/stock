{
 "cells": [
  {
   "cell_type": "code",
   "execution_count": 1,
   "metadata": {},
   "outputs": [],
   "source": [
    "import json\n",
    "\n",
    "with open(\"data.json\", \"r\") as f:\n",
    "    data = json.load(f)\n",
    "\n",
    "# Truy cập các giá trị\n",
    "timestamps = data[\"t\"]\n",
    "open_prices = data[\"o\"]\n",
    "high_prices = data[\"h\"]\n",
    "low_prices = data[\"l\"]\n",
    "close_prices = data[\"c\"]\n",
    "volumes = data[\"v\"]\n",
    "symbols = data[\"s\"]"
   ]
  },
  {
   "cell_type": "code",
   "execution_count": 3,
   "metadata": {},
   "outputs": [
    {
     "ename": "TypeError",
     "evalue": "unsupported operand type(s) for -: 'list' and 'float'",
     "output_type": "error",
     "traceback": [
      "\u001b[0;31m---------------------------------------------------------------------------\u001b[0m",
      "\u001b[0;31mTypeError\u001b[0m                                 Traceback (most recent call last)",
      "Cell \u001b[0;32mIn[3], line 39\u001b[0m\n\u001b[1;32m     30\u001b[0m symbols_train, symbols_test \u001b[38;5;241m=\u001b[39m (\n\u001b[1;32m     31\u001b[0m     symbols[: \u001b[38;5;28mint\u001b[39m(\u001b[38;5;28mlen\u001b[39m(symbols) \u001b[38;5;241m*\u001b[39m split_ratio)],\n\u001b[1;32m     32\u001b[0m     symbols[\u001b[38;5;28mint\u001b[39m(\u001b[38;5;28mlen\u001b[39m(symbols) \u001b[38;5;241m*\u001b[39m split_ratio) :],\n\u001b[1;32m     33\u001b[0m )\n\u001b[1;32m     35\u001b[0m \u001b[38;5;66;03m# Chuẩn hóa dữ liệu\u001b[39;00m\n\u001b[1;32m     36\u001b[0m \u001b[38;5;66;03m# Ví dụ: đưa tất cả dữ liệu giá về tỷ lệ phần trăm thay đổi\u001b[39;00m\n\u001b[1;32m     38\u001b[0m close_prices_train_norm \u001b[38;5;241m=\u001b[39m (\n\u001b[0;32m---> 39\u001b[0m     \u001b[43mclose_prices_train\u001b[49m\u001b[43m \u001b[49m\u001b[38;5;241;43m-\u001b[39;49m\u001b[43m \u001b[49m\u001b[43mclose_prices_train\u001b[49m\u001b[43m[\u001b[49m\u001b[38;5;241;43m0\u001b[39;49m\u001b[43m]\u001b[49m\n\u001b[1;32m     40\u001b[0m ) \u001b[38;5;241m/\u001b[39m close_prices_train[\u001b[38;5;241m0\u001b[39m]\n\u001b[1;32m     41\u001b[0m close_prices_test_norm \u001b[38;5;241m=\u001b[39m (close_prices_test \u001b[38;5;241m-\u001b[39m close_prices_test[\u001b[38;5;241m0\u001b[39m]) \u001b[38;5;241m/\u001b[39m close_prices_test[\n\u001b[1;32m     42\u001b[0m     \u001b[38;5;241m0\u001b[39m\n\u001b[1;32m     43\u001b[0m ]\n\u001b[1;32m     45\u001b[0m \u001b[38;5;66;03m# Tạo tập dữ liệu trượt (sliding window dataset)\u001b[39;00m\n",
      "\u001b[0;31mTypeError\u001b[0m: unsupported operand type(s) for -: 'list' and 'float'"
     ]
    }
   ],
   "source": [
    "import numpy as np\n",
    "import tensorflow as tf\n",
    "\n",
    "\n",
    "def prepare_data(data, split_ratio=0.8, window_size=60):\n",
    "    \"\"\"\n",
    "    Prepares data for LSTM model by splitting, normalization, and creating sliding window datasets.\n",
    "\n",
    "    Args:\n",
    "        data: Dictionary containing stock data (timestamps, open, high, low, close, volume, symbol).\n",
    "        split_ratio: Ratio for splitting data into training and testing sets (default: 0.8).\n",
    "        window_size: Size of the sliding window for creating sequences (default: 60).\n",
    "\n",
    "    Returns:\n",
    "        x_train, y_train, x_test, y_test: Tensors containing training and testing data.\n",
    "    \"\"\"\n",
    "\n",
    "    # Extract data from dictionary\n",
    "    timestamps = data[\"t\"]\n",
    "    open_prices = data[\"o\"]\n",
    "    high_prices = data[\"h\"]\n",
    "    low_prices = data[\"l\"]\n",
    "    close_prices = data[\"c\"]\n",
    "    volumes = data[\"v\"]\n",
    "    symbols = data[\"s\"]\n",
    "\n",
    "    # Split data into training and testing sets\n",
    "    split_index = int(len(timestamps) * split_ratio)\n",
    "    timestamps_train, timestamps_test = (\n",
    "        timestamps[:split_index],\n",
    "        timestamps[split_index:],\n",
    "    )\n",
    "    open_prices_train, open_prices_test = (\n",
    "        open_prices[:split_index],\n",
    "        open_prices[split_index:],\n",
    "    )\n",
    "    high_prices_train, high_prices_test = (\n",
    "        high_prices[:split_index],\n",
    "        high_prices[split_index:],\n",
    "    )\n",
    "    low_prices_train, low_prices_test = (\n",
    "        low_prices[:split_index],\n",
    "        low_prices[split_index:],\n",
    "    )\n",
    "    close_prices_train, close_prices_test = (\n",
    "        close_prices[:split_index],\n",
    "        close_prices[split_index:],\n",
    "    )\n",
    "    volumes_train, volumes_test = volumes[:split_index], volumes[split_index:]\n",
    "    symbols_train, symbols_test = symbols[:split_index], symbols[split_index:]\n",
    "\n",
    "    # Normalize closing prices (percentage change)\n",
    "    close_prices_train_norm = (close_prices_train - close_prices_train[0]) / np.float32(\n",
    "        close_prices_train[0]\n",
    "    )\n",
    "    close_prices_test_norm = (close_prices_test - close_prices_test[0]) / np.float32(\n",
    "        close_prices_test[0]\n",
    "    )\n",
    "\n",
    "    # Create sliding window datasets\n",
    "    x_train, y_train = [], []\n",
    "    for i in range(len(close_prices_train_norm) - window_size):\n",
    "        x_train.append(close_prices_train_norm[i : i + window_size])\n",
    "        y_train.append(close_prices_train_norm[i + window_size])\n",
    "\n",
    "    x_test, y_test = [], []\n",
    "    for i in range(len(close_prices_test_norm) - window_size):\n",
    "        x_test.append(close_prices_test_norm[i : i + window_size])\n",
    "        y_test.append(close_prices_test_norm[i + window_size])\n",
    "\n",
    "    # Convert data to tensors\n",
    "    x_train = tf.convert_to_tensor(x_train)\n",
    "    y_train = tf.convert_to_tensor(y_train)\n",
    "    x_test = tf.convert_to_tensor(x_test)\n",
    "    y_test = tf.convert_to_tensor(y_test)\n",
    "\n",
    "    return x_train, y_train, x_test, y_test\n",
    "\n",
    "\n",
    "# Example usage\n",
    "data = {\n",
    "    \"t\": [...],\n",
    "    \"o\": [...],\n",
    "    \"h\": [...],\n",
    "    \"l\": [...],\n",
    "    \"c\": [...],\n",
    "    \"v\": [...],\n",
    "    \"s\": [...],\n",
    "}  # Your actual data\n",
    "x_train, y_train, x_test, y_test = prepare_data(data)\n",
    "\n",
    "# Use x_train, y_train, x_test, y_test for training and testing your LSTM model"
   ]
  },
  {
   "cell_type": "code",
   "execution_count": 2,
   "metadata": {},
   "outputs": [
    {
     "name": "stderr",
     "output_type": "stream",
     "text": [
      "2024-03-21 12:58:25.095649: I metal_plugin/src/device/metal_device.cc:1154] Metal device set to: Apple M1\n",
      "2024-03-21 12:58:25.095675: I metal_plugin/src/device/metal_device.cc:296] systemMemory: 16.00 GB\n",
      "2024-03-21 12:58:25.095682: I metal_plugin/src/device/metal_device.cc:313] maxCacheSize: 5.33 GB\n",
      "2024-03-21 12:58:25.095746: I tensorflow/core/common_runtime/pluggable_device/pluggable_device_factory.cc:306] Could not identify NUMA node of platform GPU ID 0, defaulting to 0. Your kernel may not have been built with NUMA support.\n",
      "2024-03-21 12:58:25.095762: I tensorflow/core/common_runtime/pluggable_device/pluggable_device_factory.cc:272] Created TensorFlow device (/job:localhost/replica:0/task:0/device:GPU:0 with 0 MB memory) -> physical PluggableDevice (device: 0, name: METAL, pci bus id: <undefined>)\n"
     ]
    }
   ],
   "source": [
    "import tensorflow as tf\n",
    "\n",
    "model = tf.keras.models.Sequential(\n",
    "    [\n",
    "        tf.keras.layers.LSTM(128, activation=\"tanh\", return_sequences=True),\n",
    "        tf.keras.layers.LSTM(64, activation=\"tanh\"),\n",
    "        tf.keras.layers.Dense(1),\n",
    "    ]\n",
    ")"
   ]
  },
  {
   "cell_type": "code",
   "execution_count": null,
   "metadata": {},
   "outputs": [],
   "source": [
    "model.compile(optimizer=\"adam\", loss=\"mse\", metrics=[\"accuracy\"])\n",
    "\n",
    "model.fit(x_train, y_train, epochs=100)"
   ]
  },
  {
   "cell_type": "code",
   "execution_count": null,
   "metadata": {},
   "outputs": [],
   "source": [
    "predictions = model.predict(x_test)"
   ]
  }
 ],
 "metadata": {
  "kernelspec": {
   "display_name": "base",
   "language": "python",
   "name": "python3"
  },
  "language_info": {
   "codemirror_mode": {
    "name": "ipython",
    "version": 3
   },
   "file_extension": ".py",
   "mimetype": "text/x-python",
   "name": "python",
   "nbconvert_exporter": "python",
   "pygments_lexer": "ipython3",
   "version": "3.10.12"
  }
 },
 "nbformat": 4,
 "nbformat_minor": 2
}
