{
 "cells": [
  {
   "cell_type": "code",
   "execution_count": 1,
   "metadata": {},
   "outputs": [],
   "source": [
    "import torch\n",
    "import torch.nn as nn\n",
    "import torch.optim as optim\n",
    "import numpy as np\n",
    "import json\n",
    "from torch.utils.data import TensorDataset, DataLoader"
   ]
  },
  {
   "cell_type": "code",
   "execution_count": 16,
   "metadata": {},
   "outputs": [],
   "source": [
    "# Đọc dữ liệu từ file JSON\n",
    "with open('data.json', 'r') as file:\n",
    "    data = json.load(file)"
   ]
  },
  {
   "cell_type": "code",
   "execution_count": 17,
   "metadata": {},
   "outputs": [],
   "source": [
    "# Giả sử dữ liệu là một dictionary với các keys 'o', 'h', 'l', 'c', 'v'\n",
    "o = np.array(data[\"o\"])\n",
    "h = np.array(data[\"h\"])\n",
    "l = np.array(data[\"l\"])\n",
    "c = np.array(data[\"c\"])\n",
    "v = np.array(data[\"v\"])\n",
    "\n",
    "# Chuẩn bị dữ liệu đầu vào và đầu ra\n",
    "# Đây là một ví dụ đơn giản, bạn cần điều chỉnh cách tạo dữ liệu đầu vào và đầu ra cho phù hợp với yêu cầu của mình\n",
    "X = np.column_stack((o[:-1], h[:-1], l[:-1], c[:-1], v[:-1]))\n",
    "y = np.column_stack((o[1:], h[1:], l[1:], c[1:]))\n",
    "\n",
    "# Chuyển đổi numpy arrays sang torch tensors\n",
    "X_tensor = torch.tensor(X, dtype=torch.float32)\n",
    "y_tensor = torch.tensor(y, dtype=torch.float32)"
   ]
  },
  {
   "cell_type": "code",
   "execution_count": 18,
   "metadata": {},
   "outputs": [],
   "source": [
    "# Tạo DataLoader\n",
    "dataset = TensorDataset(X_tensor, y_tensor)\n",
    "data_loader = DataLoader(dataset, batch_size=32, shuffle=True)"
   ]
  },
  {
   "cell_type": "code",
   "execution_count": 19,
   "metadata": {},
   "outputs": [],
   "source": [
    "class StockPriceLSTM(nn.Module):\n",
    "    def __init__(self, input_size, hidden_size, num_layers, output_size):\n",
    "        super(StockPriceLSTM, self).__init__()\n",
    "        self.hidden_size = hidden_size\n",
    "        self.num_layers = num_layers  # Khai báo num_layers như một thuộc tính của lớp\n",
    "\n",
    "        # Khởi tạo lớp LSTM\n",
    "        self.lstm = nn.LSTM(input_size, hidden_size, num_layers, batch_first=True)\n",
    "\n",
    "        # Khởi tạo lớp Linear đầu ra\n",
    "        self.fc = nn.Linear(hidden_size, output_size)\n",
    "\n",
    "    def forward(self, x):\n",
    "        # Đảm bảo x là 3 chiều (batch, seq_len, features)\n",
    "        if x.dim() == 2:\n",
    "            x = x.unsqueeze(0)  # Thêm một chiều batch với kích thước là 1\n",
    "\n",
    "        # Khởi tạo trạng thái ẩn và trạng thái ô nhớ ban đầu cho LSTM\n",
    "        h0 = torch.zeros(self.num_layers, x.size(0), self.hidden_size).to(x.device)\n",
    "        c0 = torch.zeros(self.num_layers, x.size(0), self.hidden_size).to(x.device)\n",
    "\n",
    "        # Lan truyền tiến qua lớp LSTM\n",
    "        out, _ = self.lstm(x, (h0, c0))\n",
    "\n",
    "        # Chuyển đầu ra của LSTM qua lớp Linear đầu ra\n",
    "        out = self.fc(out[:, -1, :])  # Chỉ lấy kết quả của bước thời gian cuối cùng\n",
    "\n",
    "        # Xử lý đầu ra cho trường hợp không phân batch\n",
    "        if x.size(0) == 1:\n",
    "            out = out.squeeze(0)  # Loại bỏ chiều batch để kết quả trả về là 2 chiều\n",
    "\n",
    "        return out"
   ]
  },
  {
   "cell_type": "code",
   "execution_count": 20,
   "metadata": {},
   "outputs": [],
   "source": [
    "# Khởi tạo mô hình\n",
    "input_size = 5  # Số đặc trưng đầu vào\n",
    "hidden_size = 50  # Kích thước lớp ẩn\n",
    "num_layers = 2  # Số lớp LSTM\n",
    "output_size = 4  # Số đặc trưng đầu ra (o, h, l, c cho ngày tiếp theo)\n",
    "\n",
    "model = StockPriceLSTM(input_size, hidden_size, num_layers, output_size)\n",
    "\n",
    "# Thiết lập hàm mất mát và bộ tối ưu hóa\n",
    "criterion = nn.MSELoss()\n",
    "optimizer = optim.Adam(model.parameters(), lr=0.001)"
   ]
  },
  {
   "cell_type": "code",
   "execution_count": 21,
   "metadata": {},
   "outputs": [
    {
     "name": "stderr",
     "output_type": "stream",
     "text": [
      "/Users/khanhle/miniforge3/lib/python3.10/site-packages/torch/nn/modules/loss.py:535: UserWarning: Using a target size (torch.Size([32, 4])) that is different to the input size (torch.Size([4])). This will likely lead to incorrect results due to broadcasting. Please ensure they have the same size.\n",
      "  return F.mse_loss(input, target, reduction=self.reduction)\n",
      "/Users/khanhle/miniforge3/lib/python3.10/site-packages/torch/nn/modules/loss.py:535: UserWarning: Using a target size (torch.Size([2, 4])) that is different to the input size (torch.Size([4])). This will likely lead to incorrect results due to broadcasting. Please ensure they have the same size.\n",
      "  return F.mse_loss(input, target, reduction=self.reduction)\n"
     ]
    },
    {
     "name": "stdout",
     "output_type": "stream",
     "text": [
      "Epoch 1/100, Loss: 681202.5\n",
      "Epoch 2/100, Loss: 1296725.625\n",
      "Epoch 3/100, Loss: 295720.09375\n",
      "Epoch 4/100, Loss: 830961.0625\n",
      "Epoch 5/100, Loss: 228694.671875\n",
      "Epoch 6/100, Loss: 177645.875\n",
      "Epoch 7/100, Loss: 877381.5\n",
      "Epoch 8/100, Loss: 1038456.625\n",
      "Epoch 9/100, Loss: 313304.875\n",
      "Epoch 10/100, Loss: 274559.21875\n",
      "Epoch 11/100, Loss: 399414.90625\n",
      "Epoch 12/100, Loss: 186459.265625\n",
      "Epoch 13/100, Loss: 504289.9375\n",
      "Epoch 14/100, Loss: 74090.21875\n",
      "Epoch 15/100, Loss: 6244.6279296875\n",
      "Epoch 16/100, Loss: 628761.0\n",
      "Epoch 17/100, Loss: 709407.8125\n",
      "Epoch 18/100, Loss: 432234.90625\n",
      "Epoch 19/100, Loss: 225679.0625\n",
      "Epoch 20/100, Loss: 344031.53125\n",
      "Epoch 21/100, Loss: 77683.8046875\n",
      "Epoch 22/100, Loss: 122528.828125\n",
      "Epoch 23/100, Loss: 459551.90625\n",
      "Epoch 24/100, Loss: 139243.34375\n",
      "Epoch 25/100, Loss: 1052807.75\n",
      "Epoch 26/100, Loss: 160.1815643310547\n",
      "Epoch 27/100, Loss: 319136.09375\n",
      "Epoch 28/100, Loss: 613487.375\n",
      "Epoch 29/100, Loss: 286480.4375\n",
      "Epoch 30/100, Loss: 1120.519775390625\n",
      "Epoch 31/100, Loss: 44237.14453125\n",
      "Epoch 32/100, Loss: 197663.53125\n",
      "Epoch 33/100, Loss: 372083.90625\n",
      "Epoch 34/100, Loss: 7953.494140625\n",
      "Epoch 35/100, Loss: 141750.984375\n",
      "Epoch 36/100, Loss: 251978.78125\n",
      "Epoch 37/100, Loss: 293228.1875\n",
      "Epoch 38/100, Loss: 23900.373046875\n",
      "Epoch 39/100, Loss: 221986.71875\n",
      "Epoch 40/100, Loss: 34964.9140625\n",
      "Epoch 41/100, Loss: 103026.296875\n",
      "Epoch 42/100, Loss: 387907.84375\n",
      "Epoch 43/100, Loss: 14521.6923828125\n",
      "Epoch 44/100, Loss: 12776.0078125\n",
      "Epoch 45/100, Loss: 1156695.75\n",
      "Epoch 46/100, Loss: 309578.78125\n",
      "Epoch 47/100, Loss: 22700.505859375\n",
      "Epoch 48/100, Loss: 305220.5\n",
      "Epoch 49/100, Loss: 1495.3177490234375\n",
      "Epoch 50/100, Loss: 369920.625\n",
      "Epoch 51/100, Loss: 30423.208984375\n",
      "Epoch 52/100, Loss: 182844.90625\n",
      "Epoch 53/100, Loss: 3237.48828125\n",
      "Epoch 54/100, Loss: 27435.564453125\n",
      "Epoch 55/100, Loss: 184195.515625\n",
      "Epoch 56/100, Loss: 146268.765625\n",
      "Epoch 57/100, Loss: 49814.34375\n",
      "Epoch 58/100, Loss: 38101.77734375\n",
      "Epoch 59/100, Loss: 31822.45703125\n",
      "Epoch 60/100, Loss: 26850.970703125\n",
      "Epoch 61/100, Loss: 83755.7890625\n",
      "Epoch 62/100, Loss: 29363.19921875\n",
      "Epoch 63/100, Loss: 49000.28515625\n",
      "Epoch 64/100, Loss: 161421.421875\n",
      "Epoch 65/100, Loss: 2485.234375\n",
      "Epoch 66/100, Loss: 682427.0625\n",
      "Epoch 67/100, Loss: 453604.125\n",
      "Epoch 68/100, Loss: 1998.0869140625\n",
      "Epoch 69/100, Loss: 190435.28125\n",
      "Epoch 70/100, Loss: 59425.0546875\n",
      "Epoch 71/100, Loss: 397318.40625\n",
      "Epoch 72/100, Loss: 6119.4453125\n",
      "Epoch 73/100, Loss: 235127.828125\n",
      "Epoch 74/100, Loss: 631.1286010742188\n",
      "Epoch 75/100, Loss: 136229.390625\n",
      "Epoch 76/100, Loss: 141935.453125\n",
      "Epoch 77/100, Loss: 57172.3828125\n",
      "Epoch 78/100, Loss: 297531.15625\n",
      "Epoch 79/100, Loss: 46.682491302490234\n",
      "Epoch 80/100, Loss: 407876.03125\n",
      "Epoch 81/100, Loss: 106620.5234375\n",
      "Epoch 82/100, Loss: 104000.1875\n",
      "Epoch 83/100, Loss: 157115.5625\n",
      "Epoch 84/100, Loss: 9447.70703125\n",
      "Epoch 85/100, Loss: 115709.2265625\n",
      "Epoch 86/100, Loss: 349343.6875\n",
      "Epoch 87/100, Loss: 444024.3125\n",
      "Epoch 88/100, Loss: 16529.390625\n",
      "Epoch 89/100, Loss: 62206.91015625\n",
      "Epoch 90/100, Loss: 4922.08251953125\n",
      "Epoch 91/100, Loss: 209125.25\n",
      "Epoch 92/100, Loss: 110161.265625\n",
      "Epoch 93/100, Loss: 40569.7265625\n",
      "Epoch 94/100, Loss: 12315.6123046875\n",
      "Epoch 95/100, Loss: 64267.671875\n",
      "Epoch 96/100, Loss: 83551.0234375\n",
      "Epoch 97/100, Loss: 17413.8046875\n",
      "Epoch 98/100, Loss: 103116.71875\n",
      "Epoch 99/100, Loss: 79777.65625\n",
      "Epoch 100/100, Loss: 68381.7421875\n"
     ]
    }
   ],
   "source": [
    "# Huấn luyện mô hình\n",
    "num_epochs = 100\n",
    "for epoch in range(num_epochs):\n",
    "    for inputs, targets in data_loader:\n",
    "        optimizer.zero_grad()\n",
    "        outputs = model(inputs)\n",
    "        loss = criterion(outputs, targets)\n",
    "        loss.backward()\n",
    "        optimizer.step()\n",
    "    print(f'Epoch {epoch+1}/{num_epochs}, Loss: {loss.item()}')"
   ]
  },
  {
   "cell_type": "code",
   "execution_count": 14,
   "metadata": {},
   "outputs": [
    {
     "name": "stdout",
     "output_type": "stream",
     "text": [
      "Dự đoán giá mở cửa, cao nhất, thấp nhất, đóng cửa cho ngày hôm sau: [69.77768  69.97046  69.507515 69.699524]\n"
     ]
    }
   ],
   "source": [
    "# Giả sử `model` là mô hình LSTM của bạn đã được huấn luyện\n",
    "# `last_day_data` là dữ liệu đầu vào cho ngày cuối cùng từ dữ liệu của bạn,\n",
    "# bao gồm giá mở cửa, cao nhất, thấp nhất, đóng cửa, và khối lượng giao dịch\n",
    "\n",
    "# Định dạng của last_day_data: [o, h, l, c, v]\n",
    "last_day_data = np.array([[o[-1], h[-1], l[-1], c[-1], v[-1]]])\n",
    "\n",
    "# Chuyển đổi dữ liệu sang tensor và thêm chiều batch\n",
    "last_day_tensor = torch.tensor(last_day_data, dtype=torch.float32).unsqueeze(0)\n",
    "\n",
    "# Đảm bảo mô hình ở chế độ đánh giá\n",
    "model.eval()\n",
    "\n",
    "# Thực hiện dự đoán\n",
    "with torch.no_grad():\n",
    "    prediction = model(last_day_tensor)\n",
    "\n",
    "# Chuyển đổi tensor dự đoán sang numpy array\n",
    "predicted_values = prediction.numpy()\n",
    "\n",
    "# In kết quả dự đoán\n",
    "# predicted_values sẽ chứa dự đoán cho giá mở cửa, cao nhất, thấp nhất, đóng cửa, và khối lượng giao dịch cho ngày hôm sau\n",
    "print(\"Dự đoán giá mở cửa, cao nhất, thấp nhất, đóng cửa, khối lượng cho ngày hôm sau:\", predicted_values)"
   ]
  },
  {
   "cell_type": "code",
   "execution_count": 15,
   "metadata": {},
   "outputs": [],
   "source": [
    "torch.save(model, \"model.pth\")"
   ]
  },
  {
   "cell_type": "code",
   "execution_count": null,
   "metadata": {},
   "outputs": [],
   "source": [
    "model = torch.load(\"model.pth\")"
   ]
  }
 ],
 "metadata": {
  "kernelspec": {
   "display_name": "base",
   "language": "python",
   "name": "python3"
  },
  "language_info": {
   "codemirror_mode": {
    "name": "ipython",
    "version": 3
   },
   "file_extension": ".py",
   "mimetype": "text/x-python",
   "name": "python",
   "nbconvert_exporter": "python",
   "pygments_lexer": "ipython3",
   "version": "3.10.12"
  }
 },
 "nbformat": 4,
 "nbformat_minor": 2
}
